{
 "cells": [
  {
   "cell_type": "code",
   "execution_count": 6,
   "id": "acdc7d67",
   "metadata": {},
   "outputs": [],
   "source": [
    "from langchain.chat_models import init_chat_model\n",
    "from langgraph.prebuilt import create_react_agent\n",
    "from langchain_core.messages import AnyMessage\n",
    "from langchain_core.runnables import RunnableConfig\n",
    "from langgraph.prebuilt.chat_agent_executor import AgentState\n",
    "from langgraph.checkpoint.memory import InMemorySaver\n",
    "from pydantic import BaseModel\n",
    "\n",
    "\n",
    "checkpointer = InMemorySaver()\n",
    "\n",
    "\n",
    "def get_weather(city: str) -> str:\n",
    "    \"\"\"Get weather for a given city.\"\"\"\n",
    "    return f\"It's always sunny in {city}!\"\n",
    "\n",
    "\n",
    "def prompt(state: AgentState, config: RunnableConfig) -> list[AnyMessage]:\n",
    "    user_name = config[\"configurable\"].get(\"user_name\")\n",
    "    system_msg = f\"You are a helpful assistant. Address the user as {user_name}.\"\n",
    "    return [{\"role\": \"system\", \"content\": system_msg}] + state[\"messages\"]\n",
    "\n",
    "kwargs = {\n",
    "    \"api_key\": \"ollama\",\n",
    "    \"base_url\": \"http://localhost:11434/v1/\"\n",
    "}\n",
    "model = init_chat_model(\"qwen3:8b\", model_provider=\"openai\", **kwargs)\n",
    "\n",
    "class WeatherResponse(BaseModel):\n",
    "    conditions: str"
   ]
  },
  {
   "cell_type": "code",
   "execution_count": 7,
   "id": "99e160e2",
   "metadata": {},
   "outputs": [
    {
     "name": "stdout",
     "output_type": "stream",
     "text": [
      "what is the weather in Beijing\n",
      "<think>\n",
      "Okay, the user is asking for the weather in Beijing. Let me check the tools available. There's a function called get_weather that takes a city parameter. Since the user mentioned Beijing, I need to call that function with the city set to Beijing. I'll make sure to format the tool call correctly within the XML tags.\n",
      "</think>\n",
      "\n",
      "\n",
      "It's always sunny in Beijing!\n",
      "<think>\n",
      "</think>\n",
      "\n",
      "The weather in Beijing is sunny! 🌞 Let me know if you need more details.\n"
     ]
    }
   ],
   "source": [
    "agent = create_react_agent(model=model, \n",
    "                           tools=[get_weather], \n",
    "                           prompt=prompt, \n",
    "                           checkpointer=checkpointer,\n",
    "                           response_format=WeatherResponse)\n",
    "\n",
    "response = agent.invoke({\"messages\": [{\n",
    "    \"role\": \"user\",\n",
    "    \"content\": \"what is the weather in Beijing\"\n",
    "}]},\n",
    "                        config={\"configurable\": {\n",
    "                            \"user_name\": \"John Smith\",\n",
    "                            \"thread_id\": \"1\"\n",
    "                        }})\n",
    "\n",
    "for message in response[\"messages\"]:\n",
    "    print(message.content)"
   ]
  },
  {
   "cell_type": "code",
   "execution_count": 8,
   "id": "f25bdf30",
   "metadata": {},
   "outputs": [
    {
     "data": {
      "text/plain": [
       "WeatherResponse(conditions='sunny')"
      ]
     },
     "execution_count": 8,
     "metadata": {},
     "output_type": "execute_result"
    }
   ],
   "source": [
    "response['structured_response']"
   ]
  },
  {
   "cell_type": "code",
   "execution_count": null,
   "id": "cb4258a9",
   "metadata": {},
   "outputs": [],
   "source": []
  }
 ],
 "metadata": {
  "kernelspec": {
   "display_name": "pyroflux",
   "language": "python",
   "name": "python3"
  },
  "language_info": {
   "codemirror_mode": {
    "name": "ipython",
    "version": 3
   },
   "file_extension": ".py",
   "mimetype": "text/x-python",
   "name": "python",
   "nbconvert_exporter": "python",
   "pygments_lexer": "ipython3",
   "version": "3.12.10"
  }
 },
 "nbformat": 4,
 "nbformat_minor": 5
}
